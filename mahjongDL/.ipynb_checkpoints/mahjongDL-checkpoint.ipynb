{
 "cells": [
  {
   "cell_type": "code",
   "execution_count": 79,
   "metadata": {
    "collapsed": true
   },
   "outputs": [],
   "source": [
    "import cv2\n",
    "\n",
    "# 1. input hand image\n",
    "imghand = cv2.imread(\"img/hand.png\", 0)\n",
    "\n",
    "# 2. binarize\n",
    "ret,imgth = cv2.threshold(imghand,0,255,cv2.THRESH_BINARY+cv2.THRESH_OTSU)\n",
    "\n",
    "# 3. get hand contour\n",
    "\n",
    "# 3.1 get contour\n",
    "imgcont, contours, hierarchy = cv2.findContours(imgth, cv2.RETR_EXTERNAL, cv2.CHAIN_APPROX_TC89_KCOS)\n",
    "external_num = hierarchy.shape[1] if hierarchy is not None else 0\n",
    "contours2 = contours[0:external_num]\n",
    "\n",
    "# 3.2 get rect\n",
    "frames = []\n",
    "for contour in contours:\n",
    "    frame = cv2.minAreaRect(contour)\n",
    "    center, size, angle = frame\n",
    "    w, h = size\n",
    "    perimeter = 2 * (w + h)\n",
    "    frames.append((center, (w + 2, h + 2), angle))  # パディングを加える\n",
    "frames\n",
    "\n",
    "# 3.3 crop\n",
    "n = 0\n",
    "for f in frames:\n",
    "    intcenter = (int(f[0][0]), int(f[0][1]))\n",
    "    intsize = (int(f[1][0]), int(f[1][1]))\n",
    "    r = cv2.getRectSubPix(imghand, center=intcenter, patchSize=intsize) \n",
    "    cv2.imwrite(\"img/{n}.png\".format(n=n), r)\n",
    "    n += 1\n",
    "\n",
    "# 4. separate tile\n",
    "\n",
    "    # 4.1 作成したテンプレートから、牌の縦横比を求める\n",
    "    \n",
    "    \n",
    "    # 4.2 縦横比と手牌の高さから、牌ひとつあたりの横幅を求める\n",
    "    \n",
    "    # 4.3 純手牌を分割する\n",
    "    \n",
    "    # 4.4 鳴いた牌を分割する\n",
    "    \n",
    "        # 4.4.1 暗槓のチェック（牌が横に4枚分）\n",
    "        \n",
    "        # 4.4.2 泣き位置のチェック（上家、対面、下家。どこか高さが足りない）\n",
    "        \n",
    "        # 4.4.3 明槓のチェック（どこか高さがありすぎ）\n",
    "    \n",
    "# 5.output"
   ]
  },
  {
   "cell_type": "code",
   "execution_count": 29,
   "metadata": {
    "collapsed": false
   },
   "outputs": [
    {
     "data": {
      "text/plain": [
       "True"
      ]
     },
     "execution_count": 29,
     "metadata": {},
     "output_type": "execute_result"
    }
   ],
   "source": [
    "cv2.imwrite(\"img/output.png\", imgth)"
   ]
  },
  {
   "cell_type": "code",
   "execution_count": 80,
   "metadata": {
    "collapsed": true
   },
   "outputs": [],
   "source": []
  },
  {
   "cell_type": "code",
   "execution_count": 83,
   "metadata": {
    "collapsed": false
   },
   "outputs": [],
   "source": []
  },
  {
   "cell_type": "code",
   "execution_count": 65,
   "metadata": {
    "collapsed": false
   },
   "outputs": [],
   "source": []
  }
 ],
 "metadata": {
  "kernelspec": {
   "display_name": "Python 3",
   "language": "python",
   "name": "python3"
  },
  "language_info": {
   "codemirror_mode": {
    "name": "ipython",
    "version": 3
   },
   "file_extension": ".py",
   "mimetype": "text/x-python",
   "name": "python",
   "nbconvert_exporter": "python",
   "pygments_lexer": "ipython3",
   "version": "3.5.1"
  }
 },
 "nbformat": 4,
 "nbformat_minor": 0
}
